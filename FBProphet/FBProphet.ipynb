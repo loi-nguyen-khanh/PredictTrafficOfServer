{
 "cells": [
  {
   "cell_type": "markdown",
   "metadata": {},
   "source": [
    "<center><h1>Using FBProphet Model</h1></center>"
   ]
  },
  {
   "cell_type": "code",
   "execution_count": null,
   "metadata": {},
   "outputs": [],
   "source": [
    "import pandas as pd\n",
    "from fbprophet import Prophet\n",
    "import numpy as np"
   ]
  },
  {
   "cell_type": "code",
   "execution_count": null,
   "metadata": {},
   "outputs": [],
   "source": [
    "#Preprocessing training data\n",
    "train = pd.read_csv('../train.csv')\n",
    "train['DateTime'] = train.UPDATE_TIME.map(str) + \" \" + train.HOUR_ID.map(str) + \":00\"\n",
    "train.DateTime = pd.to_datetime(train.DateTime)\n",
    "train.DateTime = train.DateTime.dt.strftime(\"Y%-m%-d% %H:%M\")\n",
    "\n",
    "#Preprocessing testing data\n",
    "test = pd.read_csv('../test_id.csv')\n",
    "test['DateTime'] = test.UPDATE_TIME.map(str) + \" \" + test.HOUR_ID.map(str) + \":00\"\n",
    "test.DateTime = pd.to_datetime(test.DateTime)\n",
    "test.DateTime = test.DateTime.dt.strftime(\"Y%-m%-d% %H:%M\")\n",
    "test['And'] = test['DateTime'].map(str) + test.SERVER_NAME.map(str)\n",
    "\n",
    "server_name = test.SERVER_NAME.unique()\n",
    "output_feature = ['BANDWIDTH_TOTAL','MAX_USER']"
   ]
  },
  {
   "cell_type": "code",
   "execution_count": null,
   "metadata": {},
   "outputs": [],
   "source": [
    "for y1 in output_feature:\n",
    "    print(y1)\n",
    "    resultFinal = pd.DataFrame(None, columns = [y1,y1 +'_lower',y1 +'_upper','And'])\n",
    "\n",
    "    for item in server_name:\n",
    "        data_one = train[train.SERVER_NAME == item][['DateTime',y1]]\n",
    "        print(item, data_one.shape)\n",
    "        model = Prophet(yearly_seasonality=True)\n",
    "        model.fit(data_one.reset_index().rename(columns={'DateTime':'ds', y1:'y'}))\n",
    "        future = model.make_future_dataframe(periods=744, freq='h')\n",
    "        \n",
    "        forecast = model.predict(future)\n",
    "        \n",
    "        result = forecast[['ds', 'yhat', 'yhat_lower', 'yhat_upper']]\n",
    "        result['And'] = result.ds.map(str) + item\n",
    "        \n",
    "        result = result.rename(columns={'yhat':y1,'yhat_lower':y1+'_lower','yhat_upper':y1+'_upper'})\n",
    "        result = result[result.ds >= '2019-03-10']\n",
    "        result = result.drop('ds', axis=1)\n",
    "        resultFinal = pd.concat([resultFinal, result])\n",
    "        print('resultFinal', resultFinal.shape)\n",
    "        \n",
    "    resultFinal.to_csv('FBProphet_' + y1 + \".csv\")\n",
    "    del resultFinal"
   ]
  },
  {
   "cell_type": "code",
   "execution_count": null,
   "metadata": {},
   "outputs": [],
   "source": [
    "bandwidth = pd.read_csv('FBProphet_BANDWIDTH_TOTAL.csv')\n",
    "user = pd.read_csv('FBProphet_MAX_USER.csv')\n",
    "lookup_bandwidth = bandwidth[['And', 'BANDWIDTH_TOTAL']]\n",
    "lookup_user = user[['And', 'MAX_USER']]\n",
    "test = test.merge(lookup_bandwidth, on='And', how='left')\n",
    "test = test.merge(lookup_user, on='And', how='left')\n",
    "\n",
    "#Fill NaN\n",
    "test[test == \"\"] = np.NaN\n",
    "test = test.fillna(method='ffill')\n",
    "\n",
    "#Trick of MAPE\n",
    "test.BANDWIDTH_TOTAL[test.BANDWIDTH_TOTAL < 260] = 0\n",
    "test.MAX_USER[test.MAX_USER < 1] = 0\n",
    "\n",
    "#Make label value\n",
    "test['label'] = round(test.BANDWIDTH_TOTAL,2).map(str) + \" \" + round(test.MAX_USER,2).map(str)\n",
    "\n",
    "#Export data\n",
    "test[['id','label']].to_csv('FBProphet_submit.csv', index=False)"
   ]
  }
 ],
 "metadata": {
  "kernelspec": {
   "display_name": "Python 3",
   "language": "python",
   "name": "python3"
  },
  "language_info": {
   "codemirror_mode": {
    "name": "ipython",
    "version": 3
   },
   "file_extension": ".py",
   "mimetype": "text/x-python",
   "name": "python",
   "nbconvert_exporter": "python",
   "pygments_lexer": "ipython3",
   "version": "3.6.5"
  }
 },
 "nbformat": 4,
 "nbformat_minor": 2
}
